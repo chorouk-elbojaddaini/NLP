{
  "nbformat": 4,
  "nbformat_minor": 0,
  "metadata": {
    "colab": {
      "provenance": []
    },
    "kernelspec": {
      "name": "python3",
      "display_name": "Python 3"
    },
    "language_info": {
      "name": "python"
    }
  },
  "cells": [
    {
      "cell_type": "code",
      "execution_count": 17,
      "metadata": {
        "id": "g-NrxRzZXuBG"
      },
      "outputs": [],
      "source": [
        "#Libraries\n",
        "from google.colab import drive\n",
        "import numpy as np\n",
        "import pandas as pd\n",
        "import pandas as pd\n",
        "import string\n",
        "import nltk\n",
        "from nltk.corpus import stopwords\n",
        "from nltk.tokenize import word_tokenize\n",
        "import spacy\n",
        "from gensim.models import Word2Vec"
      ]
    },
    {
      "cell_type": "markdown",
      "source": [
        "#Data Preprocessing\n"
      ],
      "metadata": {
        "id": "7l32Zz9vYBgZ"
      }
    },
    {
      "cell_type": "code",
      "source": [
        "#Afficher le text depuis mon drive\n",
        "drive.mount('/content/drive')"
      ],
      "metadata": {
        "colab": {
          "base_uri": "https://localhost:8080/"
        },
        "id": "dUpdn4nWY785",
        "outputId": "9a3fc943-b7dc-4906-b137-1508bbf45585"
      },
      "execution_count": 2,
      "outputs": [
        {
          "output_type": "stream",
          "name": "stdout",
          "text": [
            "Mounted at /content/drive\n"
          ]
        }
      ]
    },
    {
      "cell_type": "code",
      "source": [
        "##Je définis le chemin vers mon fichier sur drive\n",
        "file_path = '/content/drive/My Drive/nlp_data/text'\n",
        "\n",
        "##Lire le fichier\n",
        "with open(file_path, 'r') as file:\n",
        "    text = file.read()\n",
        "\n",
        "print(text)"
      ],
      "metadata": {
        "colab": {
          "base_uri": "https://localhost:8080/"
        },
        "id": "wUhs8eo3ZUHG",
        "outputId": "eb7b7fab-fec6-4065-e81a-aaf5f8da7485"
      },
      "execution_count": 5,
      "outputs": [
        {
          "output_type": "stream",
          "name": "stdout",
          "text": [
            "**Morocco and Marrakech: A Tapestry of Tradition and Modernity** Morocco, located at the crossroads of Europe and Africa, is a country drenched in history, mystery, and cultural richness. A testament to the ancient civilizations that once flourished here, this North African kingdom boasts a unique blend of Arab, Berber, and European influences. At the heart of Morocco's rich tapestry lies Marrakech, one of its four imperial cities and a vibrant epicenter of tradition and modernity. **Geographical Significance** Morocco is bordered by the Atlantic Ocean to the west, the Mediterranean Sea to the north, Algeria to the east and southeast, and the vast Sahara desert to the south. Its strategic location has historically made it a sought-after territory and a melting pot of cultures, religions, and trade routes. **Marrakech: The Red City** Marrakech, often referred to as \"The Red City\" due to its distinctive red-hued buildings, stands against the backdrop of the snow-capped Atlas Mountains. Established in the 11th century, it has remained a crucial political, economic, and cultural center of Morocco. **Journey through the Medina** Marrakech's old town, the Medina, is a UNESCO World Heritage site and a labyrinthine maze of narrow alleys, bustling souks, and historical landmarks. The Djemaa el-Fna Square lies at the heart of the Medina and comes alive every evening with storytellers, musicians, snake charmers, and food stalls offering tantalizing Moroccan delicacies. **Palaces and Gardens** The city is also home to grand palaces like the Bahia Palace, showcasing intricate Islamic architecture, and the Saadian Tombs, remnants of the Saadian dynasty. The Majorelle Garden, restored by the fashion designer Yves Saint Laurent, is a tranquil oasis of cacti, palm trees, and cobalt blue accents. **Modern Marrakech** While tradition and history permeate Marrakech, the city is not averse to the modern world. Gueliz, the new town, is brimming with contemporary art galleries, stylish cafes, and chic boutiques, offering a stark contrast to the ancient Medina. **Moroccan Cuisine** No journey through Morocco and Marrakech would be complete without indulging in the local cuisine. Tagines, couscous, and pastilla are just a few of the many dishes that combine a plethora of flavors and spices like saffron, cumin, and mint. Paired with Moroccan mint tea, the culinary experience is truly unparalleled. **In Conclusion** Morocco, with Marrakech at its heart, offers travelers an unparalleled journey through time. The convergence of history, culture, architecture, and gastronomy makes it an enthralling destination for those seeking both adventure and reflection. As the Moroccan proverb goes, \"He who does not travel does not know the value of men.\" In the case of Morocco and Marrakech, it's not just the value of men, but also the value of time, tradition, and tales that have spanned centuries.\n"
          ]
        }
      ]
    },
    {
      "cell_type": "code",
      "source": [
        "#Normalisation en minscules\n",
        "text_lower = text.lower()\n",
        "text_lower"
      ],
      "metadata": {
        "colab": {
          "base_uri": "https://localhost:8080/",
          "height": 140
        },
        "id": "w4ozeJLMZmFB",
        "outputId": "9b635328-83db-466e-dd2f-a23148debd52"
      },
      "execution_count": 9,
      "outputs": [
        {
          "output_type": "execute_result",
          "data": {
            "text/plain": [
              "'**morocco and marrakech: a tapestry of tradition and modernity** morocco, located at the crossroads of europe and africa, is a country drenched in history, mystery, and cultural richness. a testament to the ancient civilizations that once flourished here, this north african kingdom boasts a unique blend of arab, berber, and european influences. at the heart of morocco\\'s rich tapestry lies marrakech, one of its four imperial cities and a vibrant epicenter of tradition and modernity. **geographical significance** morocco is bordered by the atlantic ocean to the west, the mediterranean sea to the north, algeria to the east and southeast, and the vast sahara desert to the south. its strategic location has historically made it a sought-after territory and a melting pot of cultures, religions, and trade routes. **marrakech: the red city** marrakech, often referred to as \"the red city\" due to its distinctive red-hued buildings, stands against the backdrop of the snow-capped atlas mountains. established in the 11th century, it has remained a crucial political, economic, and cultural center of morocco. **journey through the medina** marrakech\\'s old town, the medina, is a unesco world heritage site and a labyrinthine maze of narrow alleys, bustling souks, and historical landmarks. the djemaa el-fna square lies at the heart of the medina and comes alive every evening with storytellers, musicians, snake charmers, and food stalls offering tantalizing moroccan delicacies. **palaces and gardens** the city is also home to grand palaces like the bahia palace, showcasing intricate islamic architecture, and the saadian tombs, remnants of the saadian dynasty. the majorelle garden, restored by the fashion designer yves saint laurent, is a tranquil oasis of cacti, palm trees, and cobalt blue accents. **modern marrakech** while tradition and history permeate marrakech, the city is not averse to the modern world. gueliz, the new town, is brimming with contemporary art galleries, stylish cafes, and chic boutiques, offering a stark contrast to the ancient medina. **moroccan cuisine** no journey through morocco and marrakech would be complete without indulging in the local cuisine. tagines, couscous, and pastilla are just a few of the many dishes that combine a plethora of flavors and spices like saffron, cumin, and mint. paired with moroccan mint tea, the culinary experience is truly unparalleled. **in conclusion** morocco, with marrakech at its heart, offers travelers an unparalleled journey through time. the convergence of history, culture, architecture, and gastronomy makes it an enthralling destination for those seeking both adventure and reflection. as the moroccan proverb goes, \"he who does not travel does not know the value of men.\" in the case of morocco and marrakech, it\\'s not just the value of men, but also the value of time, tradition, and tales that have spanned centuries.'"
            ],
            "application/vnd.google.colaboratory.intrinsic+json": {
              "type": "string"
            }
          },
          "metadata": {},
          "execution_count": 9
        }
      ]
    },
    {
      "cell_type": "code",
      "source": [
        "#Supprimer la ponctuation\n",
        "def remove_punctuation(text):\n",
        "    translator = str.maketrans('', '', string.punctuation)\n",
        "    text_without_punctuation = text.translate(translator)\n",
        "    return text_without_punctuation\n",
        "\n",
        "text_without_punctuation = remove_punctuation(text_lower)\n",
        "\n",
        "print(text_without_punctuation)\n"
      ],
      "metadata": {
        "colab": {
          "base_uri": "https://localhost:8080/"
        },
        "id": "o_twJo_lbGyH",
        "outputId": "7f03fd63-7628-4443-d13f-82cca5e0cf20"
      },
      "execution_count": 10,
      "outputs": [
        {
          "output_type": "stream",
          "name": "stdout",
          "text": [
            "morocco and marrakech a tapestry of tradition and modernity morocco located at the crossroads of europe and africa is a country drenched in history mystery and cultural richness a testament to the ancient civilizations that once flourished here this north african kingdom boasts a unique blend of arab berber and european influences at the heart of moroccos rich tapestry lies marrakech one of its four imperial cities and a vibrant epicenter of tradition and modernity geographical significance morocco is bordered by the atlantic ocean to the west the mediterranean sea to the north algeria to the east and southeast and the vast sahara desert to the south its strategic location has historically made it a soughtafter territory and a melting pot of cultures religions and trade routes marrakech the red city marrakech often referred to as the red city due to its distinctive redhued buildings stands against the backdrop of the snowcapped atlas mountains established in the 11th century it has remained a crucial political economic and cultural center of morocco journey through the medina marrakechs old town the medina is a unesco world heritage site and a labyrinthine maze of narrow alleys bustling souks and historical landmarks the djemaa elfna square lies at the heart of the medina and comes alive every evening with storytellers musicians snake charmers and food stalls offering tantalizing moroccan delicacies palaces and gardens the city is also home to grand palaces like the bahia palace showcasing intricate islamic architecture and the saadian tombs remnants of the saadian dynasty the majorelle garden restored by the fashion designer yves saint laurent is a tranquil oasis of cacti palm trees and cobalt blue accents modern marrakech while tradition and history permeate marrakech the city is not averse to the modern world gueliz the new town is brimming with contemporary art galleries stylish cafes and chic boutiques offering a stark contrast to the ancient medina moroccan cuisine no journey through morocco and marrakech would be complete without indulging in the local cuisine tagines couscous and pastilla are just a few of the many dishes that combine a plethora of flavors and spices like saffron cumin and mint paired with moroccan mint tea the culinary experience is truly unparalleled in conclusion morocco with marrakech at its heart offers travelers an unparalleled journey through time the convergence of history culture architecture and gastronomy makes it an enthralling destination for those seeking both adventure and reflection as the moroccan proverb goes he who does not travel does not know the value of men in the case of morocco and marrakech its not just the value of men but also the value of time tradition and tales that have spanned centuries\n"
          ]
        }
      ]
    },
    {
      "cell_type": "code",
      "source": [
        "#Supprimer stopWords\n",
        "\n",
        "##Télécharger la liste des stopwords\n",
        "nltk.download('stopwords')"
      ],
      "metadata": {
        "colab": {
          "base_uri": "https://localhost:8080/"
        },
        "id": "HWXrXGUrbuMa",
        "outputId": "f840741e-80ee-4ace-ac37-687eae8790c1"
      },
      "execution_count": 11,
      "outputs": [
        {
          "output_type": "stream",
          "name": "stderr",
          "text": [
            "[nltk_data] Downloading package stopwords to /root/nltk_data...\n",
            "[nltk_data]   Unzipping corpora/stopwords.zip.\n"
          ]
        },
        {
          "output_type": "execute_result",
          "data": {
            "text/plain": [
              "True"
            ]
          },
          "metadata": {},
          "execution_count": 11
        }
      ]
    },
    {
      "cell_type": "code",
      "source": [
        "def remove_stopwords(text):\n",
        "    stop_words = set(stopwords.words('english'))\n",
        "    words = text.split()\n",
        "    filtered_text = [word for word in words if word.lower() not in stop_words]\n",
        "    return ' '.join(filtered_text)\n",
        "\n",
        "\n",
        "text_without_stopwords = remove_stopwords(text_without_punctuation)\n",
        "print(text_without_stopwords)"
      ],
      "metadata": {
        "colab": {
          "base_uri": "https://localhost:8080/"
        },
        "id": "UZONYW3TcHqg",
        "outputId": "59edee12-95ed-4785-d521-11c9b560e1cb"
      },
      "execution_count": 12,
      "outputs": [
        {
          "output_type": "stream",
          "name": "stdout",
          "text": [
            "morocco marrakech tapestry tradition modernity morocco located crossroads europe africa country drenched history mystery cultural richness testament ancient civilizations flourished north african kingdom boasts unique blend arab berber european influences heart moroccos rich tapestry lies marrakech one four imperial cities vibrant epicenter tradition modernity geographical significance morocco bordered atlantic ocean west mediterranean sea north algeria east southeast vast sahara desert south strategic location historically made soughtafter territory melting pot cultures religions trade routes marrakech red city marrakech often referred red city due distinctive redhued buildings stands backdrop snowcapped atlas mountains established 11th century remained crucial political economic cultural center morocco journey medina marrakechs old town medina unesco world heritage site labyrinthine maze narrow alleys bustling souks historical landmarks djemaa elfna square lies heart medina comes alive every evening storytellers musicians snake charmers food stalls offering tantalizing moroccan delicacies palaces gardens city also home grand palaces like bahia palace showcasing intricate islamic architecture saadian tombs remnants saadian dynasty majorelle garden restored fashion designer yves saint laurent tranquil oasis cacti palm trees cobalt blue accents modern marrakech tradition history permeate marrakech city averse modern world gueliz new town brimming contemporary art galleries stylish cafes chic boutiques offering stark contrast ancient medina moroccan cuisine journey morocco marrakech would complete without indulging local cuisine tagines couscous pastilla many dishes combine plethora flavors spices like saffron cumin mint paired moroccan mint tea culinary experience truly unparalleled conclusion morocco marrakech heart offers travelers unparalleled journey time convergence history culture architecture gastronomy makes enthralling destination seeking adventure reflection moroccan proverb goes travel know value men case morocco marrakech value men also value time tradition tales spanned centuries\n"
          ]
        }
      ]
    },
    {
      "cell_type": "code",
      "source": [
        "#Tokenization\n",
        "\n",
        "nltk.download('punkt')\n",
        "\n"
      ],
      "metadata": {
        "colab": {
          "base_uri": "https://localhost:8080/"
        },
        "id": "vYCgf-swcQ6R",
        "outputId": "90bc3242-78c8-46fe-bbf5-28fc85b054b5"
      },
      "execution_count": 13,
      "outputs": [
        {
          "output_type": "stream",
          "name": "stderr",
          "text": [
            "[nltk_data] Downloading package punkt to /root/nltk_data...\n",
            "[nltk_data]   Unzipping tokenizers/punkt.zip.\n"
          ]
        },
        {
          "output_type": "execute_result",
          "data": {
            "text/plain": [
              "True"
            ]
          },
          "metadata": {},
          "execution_count": 13
        }
      ]
    },
    {
      "cell_type": "code",
      "source": [
        "def tokenize_text(text):\n",
        "    tokens = word_tokenize(text)\n",
        "    return tokens\n",
        "\n",
        "\n",
        "tokens = tokenize_text(text_without_stopwords)\n",
        "print(tokens)"
      ],
      "metadata": {
        "colab": {
          "base_uri": "https://localhost:8080/"
        },
        "id": "Iflz-vGncwIq",
        "outputId": "887de264-0b26-43d3-d1b1-129c292b4e5f"
      },
      "execution_count": 14,
      "outputs": [
        {
          "output_type": "stream",
          "name": "stdout",
          "text": [
            "['morocco', 'marrakech', 'tapestry', 'tradition', 'modernity', 'morocco', 'located', 'crossroads', 'europe', 'africa', 'country', 'drenched', 'history', 'mystery', 'cultural', 'richness', 'testament', 'ancient', 'civilizations', 'flourished', 'north', 'african', 'kingdom', 'boasts', 'unique', 'blend', 'arab', 'berber', 'european', 'influences', 'heart', 'moroccos', 'rich', 'tapestry', 'lies', 'marrakech', 'one', 'four', 'imperial', 'cities', 'vibrant', 'epicenter', 'tradition', 'modernity', 'geographical', 'significance', 'morocco', 'bordered', 'atlantic', 'ocean', 'west', 'mediterranean', 'sea', 'north', 'algeria', 'east', 'southeast', 'vast', 'sahara', 'desert', 'south', 'strategic', 'location', 'historically', 'made', 'soughtafter', 'territory', 'melting', 'pot', 'cultures', 'religions', 'trade', 'routes', 'marrakech', 'red', 'city', 'marrakech', 'often', 'referred', 'red', 'city', 'due', 'distinctive', 'redhued', 'buildings', 'stands', 'backdrop', 'snowcapped', 'atlas', 'mountains', 'established', '11th', 'century', 'remained', 'crucial', 'political', 'economic', 'cultural', 'center', 'morocco', 'journey', 'medina', 'marrakechs', 'old', 'town', 'medina', 'unesco', 'world', 'heritage', 'site', 'labyrinthine', 'maze', 'narrow', 'alleys', 'bustling', 'souks', 'historical', 'landmarks', 'djemaa', 'elfna', 'square', 'lies', 'heart', 'medina', 'comes', 'alive', 'every', 'evening', 'storytellers', 'musicians', 'snake', 'charmers', 'food', 'stalls', 'offering', 'tantalizing', 'moroccan', 'delicacies', 'palaces', 'gardens', 'city', 'also', 'home', 'grand', 'palaces', 'like', 'bahia', 'palace', 'showcasing', 'intricate', 'islamic', 'architecture', 'saadian', 'tombs', 'remnants', 'saadian', 'dynasty', 'majorelle', 'garden', 'restored', 'fashion', 'designer', 'yves', 'saint', 'laurent', 'tranquil', 'oasis', 'cacti', 'palm', 'trees', 'cobalt', 'blue', 'accents', 'modern', 'marrakech', 'tradition', 'history', 'permeate', 'marrakech', 'city', 'averse', 'modern', 'world', 'gueliz', 'new', 'town', 'brimming', 'contemporary', 'art', 'galleries', 'stylish', 'cafes', 'chic', 'boutiques', 'offering', 'stark', 'contrast', 'ancient', 'medina', 'moroccan', 'cuisine', 'journey', 'morocco', 'marrakech', 'would', 'complete', 'without', 'indulging', 'local', 'cuisine', 'tagines', 'couscous', 'pastilla', 'many', 'dishes', 'combine', 'plethora', 'flavors', 'spices', 'like', 'saffron', 'cumin', 'mint', 'paired', 'moroccan', 'mint', 'tea', 'culinary', 'experience', 'truly', 'unparalleled', 'conclusion', 'morocco', 'marrakech', 'heart', 'offers', 'travelers', 'unparalleled', 'journey', 'time', 'convergence', 'history', 'culture', 'architecture', 'gastronomy', 'makes', 'enthralling', 'destination', 'seeking', 'adventure', 'reflection', 'moroccan', 'proverb', 'goes', 'travel', 'know', 'value', 'men', 'case', 'morocco', 'marrakech', 'value', 'men', 'also', 'value', 'time', 'tradition', 'tales', 'spanned', 'centuries']\n"
          ]
        }
      ]
    },
    {
      "cell_type": "code",
      "source": [
        "#Lemmatisation\n",
        "\n",
        "\n",
        "# Charger le modèle de langue Spacy\n",
        "nlp = spacy.load('en_core_web_sm')\n",
        "\n",
        "\n",
        "def lemmatize_tokens(tokens):\n",
        "    text = \" \".join(tokens)\n",
        "    doc = nlp(text)\n",
        "    return [token.lemma_ for token in doc]\n",
        "\n",
        "\n",
        "\n",
        "lemmatized_tokens = lemmatize_tokens(tokens)\n",
        "print(lemmatized_tokens)\n"
      ],
      "metadata": {
        "colab": {
          "base_uri": "https://localhost:8080/"
        },
        "id": "IgZSSlA_c0JV",
        "outputId": "09c49a9f-cce4-4c50-a77c-54ca727010bf"
      },
      "execution_count": 16,
      "outputs": [
        {
          "output_type": "stream",
          "name": "stdout",
          "text": [
            "['morocco', 'marrakech', 'tapestry', 'tradition', 'modernity', 'morocco', 'locate', 'crossroad', 'europe', 'africa', 'country', 'drench', 'history', 'mystery', 'cultural', 'richness', 'testament', 'ancient', 'civilization', 'flourish', 'north', 'african', 'kingdom', 'boast', 'unique', 'blend', 'arab', 'berber', 'european', 'influence', 'heart', 'morocco', 'rich', 'tapestry', 'lie', 'marrakech', 'one', 'four', 'imperial', 'city', 'vibrant', 'epicenter', 'tradition', 'modernity', 'geographical', 'significance', 'morocco', 'border', 'atlantic', 'ocean', 'west', 'mediterranean', 'sea', 'north', 'algeria', 'east', 'southeast', 'vast', 'sahara', 'desert', 'south', 'strategic', 'location', 'historically', 'make', 'soughtafter', 'territory', 'melting', 'pot', 'culture', 'religion', 'trade', 'route', 'marrakech', 'red', 'city', 'marrakech', 'often', 'refer', 'red', 'city', 'due', 'distinctive', 'redhue', 'building', 'stand', 'backdrop', 'snowcappe', 'atlas', 'mountain', 'establish', '11th', 'century', 'remain', 'crucial', 'political', 'economic', 'cultural', 'center', 'morocco', 'journey', 'medina', 'marrakechs', 'old', 'town', 'medina', 'unesco', 'world', 'heritage', 'site', 'labyrinthine', 'maze', 'narrow', 'alley', 'bustle', 'souks', 'historical', 'landmark', 'djemaa', 'elfna', 'square', 'lies', 'heart', 'medina', 'come', 'alive', 'every', 'evening', 'storyteller', 'musician', 'snake', 'charmer', 'food', 'stall', 'offer', 'tantalize', 'moroccan', 'delicacies', 'palaces', 'gardens', 'city', 'also', 'home', 'grand', 'palace', 'like', 'bahia', 'palace', 'showcase', 'intricate', 'islamic', 'architecture', 'saadian', 'tomb', 'remnant', 'saadian', 'dynasty', 'majorelle', 'garden', 'restore', 'fashion', 'designer', 'yve', 'saint', 'laurent', 'tranquil', 'oasis', 'cacti', 'palm', 'tree', 'cobalt', 'blue', 'accent', 'modern', 'marrakech', 'tradition', 'history', 'permeate', 'marrakech', 'city', 'averse', 'modern', 'world', 'gueliz', 'new', 'town', 'brim', 'contemporary', 'art', 'gallery', 'stylish', 'cafe', 'chic', 'boutique', 'offer', 'stark', 'contrast', 'ancient', 'medina', 'moroccan', 'cuisine', 'journey', 'morocco', 'marrakech', 'would', 'complete', 'without', 'indulge', 'local', 'cuisine', 'tagine', 'couscous', 'pastilla', 'many', 'dish', 'combine', 'plethora', 'flavors', 'spice', 'like', 'saffron', 'cumin', 'mint', 'pair', 'moroccan', 'mint', 'tea', 'culinary', 'experience', 'truly', 'unparalleled', 'conclusion', 'morocco', 'marrakech', 'heart', 'offer', 'traveler', 'unparalleled', 'journey', 'time', 'convergence', 'history', 'culture', 'architecture', 'gastronomy', 'make', 'enthral', 'destination', 'seek', 'adventure', 'reflection', 'moroccan', 'proverb', 'go', 'travel', 'know', 'value', 'man', 'case', 'morocco', 'marrakech', 'value', 'man', 'also', 'value', 'time', 'tradition', 'tale', 'span', 'century']\n"
          ]
        }
      ]
    },
    {
      "cell_type": "markdown",
      "source": [
        "#Vectorisation"
      ],
      "metadata": {
        "id": "Ea30R7undYct"
      }
    },
    {
      "cell_type": "code",
      "source": [
        "#On crée le modèle Word2Vec\n",
        "model = Word2Vec(sentences=[lemmatized_tokens], vector_size=100, window=5, min_count=1, workers=4)\n"
      ],
      "metadata": {
        "id": "TykGEL-bdbHG"
      },
      "execution_count": 18,
      "outputs": []
    },
    {
      "cell_type": "code",
      "source": [
        "#QUESTION 1 : Extraire la représentation vectorielle d'un mot\n",
        "word_vector = model.wv['tradition']\n",
        "print(f'Vecteur du mot \"tradition\": {word_vector}')"
      ],
      "metadata": {
        "colab": {
          "base_uri": "https://localhost:8080/"
        },
        "id": "JxV64D7xdvwf",
        "outputId": "ae24c8d3-d6ad-4709-c5bc-e412bc7110b1"
      },
      "execution_count": 20,
      "outputs": [
        {
          "output_type": "stream",
          "name": "stdout",
          "text": [
            "Vecteur du mot \"tradition\": [-0.00717458  0.00126966 -0.00714438 -0.00224606  0.00373261  0.00577012\n",
            "  0.00122086  0.00218895 -0.00414456  0.00718591 -0.00630897  0.00459707\n",
            " -0.00820428  0.00203935 -0.00499117 -0.00429372 -0.00308585  0.00556525\n",
            "  0.00580508 -0.0050543   0.00076295 -0.00852395  0.00784486  0.00922771\n",
            " -0.00275235  0.00082861  0.00073165  0.00543514 -0.00867185  0.00061414\n",
            "  0.00688182  0.00229617  0.00112316 -0.00933964  0.00845546 -0.00617805\n",
            " -0.00299161  0.00344831 -0.00075985  0.0013179   0.00176916 -0.00691761\n",
            " -0.00974486  0.00904466  0.00622824 -0.00687689  0.00340906  0.00017238\n",
            "  0.00477618 -0.00708143  0.00407225  0.0043228   0.01000488 -0.00447688\n",
            " -0.00143261 -0.00729297 -0.00968993 -0.00907973 -0.00106636 -0.00647578\n",
            "  0.00485248 -0.00614422  0.00252185  0.00068958 -0.00344282 -0.00097183\n",
            "  0.0100321   0.00921306 -0.00451506  0.00916448 -0.00569884  0.00595305\n",
            " -0.00306806  0.00341787  0.00308264  0.00693998 -0.00237167  0.00876564\n",
            "  0.00751767 -0.00949212 -0.00798877 -0.00762787  0.00286159 -0.00270691\n",
            " -0.00696357 -0.00811149  0.00836283  0.00203764 -0.00928646 -0.00479258\n",
            "  0.00320951 -0.00467589  0.0052855  -0.00418856  0.00273035 -0.0079904\n",
            "  0.00627874  0.00473254  0.00080714  0.00295137]\n"
          ]
        }
      ]
    },
    {
      "cell_type": "code",
      "source": [
        "#QUESTION 2 : Calculer la similarité entre deux mots\n",
        "similarity = model.wv.similarity('country', 'morocco')\n",
        "print(f'Similarité entre \"country\" et \"morocco\": {similarity}')"
      ],
      "metadata": {
        "colab": {
          "base_uri": "https://localhost:8080/"
        },
        "id": "kXKdO-vNeEPY",
        "outputId": "e884399d-b7c1-458d-809c-6687f5541d99"
      },
      "execution_count": 28,
      "outputs": [
        {
          "output_type": "stream",
          "name": "stdout",
          "text": [
            "Similarité entre \"country\" et \"morocco\": 0.028063181787729263\n"
          ]
        }
      ]
    },
    {
      "cell_type": "code",
      "source": [
        "#QUESTION 3 : Extraire les mots contextuels (les plus similaires) pour un mot central donné\n",
        "contextual_words = model.wv.most_similar('africa', topn=3)\n",
        "print(f'Mots contextuels pour \"africa\": {contextual_words}')"
      ],
      "metadata": {
        "colab": {
          "base_uri": "https://localhost:8080/"
        },
        "id": "gJ8I8GQfehMS",
        "outputId": "76787ff4-bfa8-412f-e1b4-d7e2b3cb1f83"
      },
      "execution_count": 27,
      "outputs": [
        {
          "output_type": "stream",
          "name": "stdout",
          "text": [
            "Mots contextuels pour \"africa\": [('tradition', 0.26944199204444885), ('sahara', 0.25470951199531555), ('unparalleled', 0.25083649158477783)]\n"
          ]
        }
      ]
    }
  ]
}